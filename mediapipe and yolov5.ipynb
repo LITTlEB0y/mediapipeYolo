{
 "cells": [
  {
   "cell_type": "code",
   "execution_count": 1,
   "id": "2809cb57",
   "metadata": {},
   "outputs": [
    {
     "name": "stderr",
     "output_type": "stream",
     "text": [
      "WARNING: Cache entry deserialization failed, entry ignored\n"
     ]
    },
    {
     "name": "stdout",
     "output_type": "stream",
     "text": [
      "Requirement already satisfied: opencv-python in c:\\users\\user\\anaconda3\\envs\\torch\\lib\\site-packages (4.6.0.66)\n",
      "Requirement already satisfied: mediapipe in c:\\users\\user\\anaconda3\\envs\\torch\\lib\\site-packages (0.8.10.1)\n",
      "Requirement already satisfied: torch in c:\\users\\user\\anaconda3\\envs\\torch\\lib\\site-packages (1.11.0+cu113)\n",
      "Requirement already satisfied: numpy>=1.21.2 in c:\\users\\user\\anaconda3\\envs\\torch\\lib\\site-packages (from opencv-python) (1.23.1)\n",
      "Requirement already satisfied: attrs>=19.1.0 in c:\\users\\user\\anaconda3\\envs\\torch\\lib\\site-packages (from mediapipe) (21.4.0)\n",
      "Requirement already satisfied: protobuf<4,>=3.11 in c:\\users\\user\\anaconda3\\envs\\torch\\lib\\site-packages (from mediapipe) (3.19.4)\n",
      "Requirement already satisfied: absl-py in c:\\users\\user\\anaconda3\\envs\\torch\\lib\\site-packages (from mediapipe) (1.1.0)\n",
      "Requirement already satisfied: opencv-contrib-python in c:\\users\\user\\anaconda3\\envs\\torch\\lib\\site-packages (from mediapipe) (4.6.0.66)\n",
      "Requirement already satisfied: matplotlib in c:\\users\\user\\anaconda3\\envs\\torch\\lib\\site-packages (from mediapipe) (3.5.2)\n",
      "Requirement already satisfied: typing-extensions in c:\\users\\user\\anaconda3\\envs\\torch\\lib\\site-packages (from torch) (4.3.0)\n",
      "Requirement already satisfied: cycler>=0.10 in c:\\users\\user\\anaconda3\\envs\\torch\\lib\\site-packages (from matplotlib->mediapipe) (0.11.0)\n",
      "Requirement already satisfied: packaging>=20.0 in c:\\users\\user\\anaconda3\\envs\\torch\\lib\\site-packages (from matplotlib->mediapipe) (21.3)\n",
      "Requirement already satisfied: pyparsing>=2.2.1 in c:\\users\\user\\anaconda3\\envs\\torch\\lib\\site-packages (from matplotlib->mediapipe) (3.0.4)\n",
      "Requirement already satisfied: pillow>=6.2.0 in c:\\users\\user\\anaconda3\\envs\\torch\\lib\\site-packages (from matplotlib->mediapipe) (9.2.0)\n",
      "Requirement already satisfied: python-dateutil>=2.7 in c:\\users\\user\\anaconda3\\envs\\torch\\lib\\site-packages (from matplotlib->mediapipe) (2.8.2)\n",
      "Requirement already satisfied: kiwisolver>=1.0.1 in c:\\users\\user\\anaconda3\\envs\\torch\\lib\\site-packages (from matplotlib->mediapipe) (1.4.3)\n",
      "Requirement already satisfied: fonttools>=4.22.0 in c:\\users\\user\\anaconda3\\envs\\torch\\lib\\site-packages (from matplotlib->mediapipe) (4.34.4)\n",
      "Requirement already satisfied: six>=1.5 in c:\\users\\user\\anaconda3\\envs\\torch\\lib\\site-packages (from python-dateutil>=2.7->matplotlib->mediapipe) (1.16.0)\n"
     ]
    }
   ],
   "source": [
    "!pip install -qr https://raw.githubusercontent.com/ultralytics/yolov5/master/requirements.txt\n",
    "!pip install opencv-python mediapipe torch"
   ]
  },
  {
   "cell_type": "code",
   "execution_count": 2,
   "id": "be243e9e",
   "metadata": {},
   "outputs": [
    {
     "name": "stderr",
     "output_type": "stream",
     "text": [
      "C:\\Users\\user\\anaconda3\\envs\\torch\\lib\\site-packages\\tqdm\\auto.py:22: TqdmWarning: IProgress not found. Please update jupyter and ipywidgets. See https://ipywidgets.readthedocs.io/en/stable/user_install.html\n",
      "  from .autonotebook import tqdm as notebook_tqdm\n",
      "Using cache found in C:\\Users\\user/.cache\\torch\\hub\\ultralytics_yolov5_master\n",
      "YOLOv5  2022-7-11 Python-3.10.5 torch-1.11.0+cu113 CUDA:0 (NVIDIA GeForce RTX 3060 Laptop GPU, 6144MiB)\n",
      "\n",
      "Fusing layers... \n",
      "YOLOv5s summary: 213 layers, 7225885 parameters, 0 gradients\n",
      "Adding AutoShape... \n"
     ]
    }
   ],
   "source": [
    "import os\n",
    "import matplotlib.pyplot as plt\n",
    "\n",
    "from PIL import Image\n",
    "import cv2\n",
    "\n",
    "import mediapipe as mp\n",
    "from mediapipe.python.solutions import pose as mp_pose\n",
    "import torch\n",
    "\n",
    "yolo_model = torch.hub.load('ultralytics/yolov5', 'yolov5s')\n",
    "yolo_model.classes=[0]"
   ]
  },
  {
   "cell_type": "code",
   "execution_count": 3,
   "id": "1e8c4d98",
   "metadata": {},
   "outputs": [],
   "source": [
    "mp_drawing = mp.solutions.drawing_utils\n",
    "mp_pose =mp.solutions.pose"
   ]
  },
  {
   "cell_type": "code",
   "execution_count": 4,
   "id": "5f25b20d",
   "metadata": {},
   "outputs": [],
   "source": [
    "video_path =\"videoplayback.mp4\""
   ]
  },
  {
   "cell_type": "code",
   "execution_count": null,
   "id": "4c66e180",
   "metadata": {},
   "outputs": [
    {
     "name": "stdout",
     "output_type": "stream",
     "text": [
      "(1920, 1080)\n"
     ]
    }
   ],
   "source": [
    "cap = cv2.VideoCapture(video_path)\n",
    "while cap.isOpened():\n",
    "    ret, frame = cap.read()\n",
    "    h, w, _ = frame.shape\n",
    "    size = (w, h)\n",
    "    print(size)\n",
    "    break\n",
    "\n",
    "cap = cv2.VideoCapture(video_path)\n",
    "\n",
    "#for webacam cv2.VideoCapture(NUM) NUM -> 0,1,2 for primary and secondary webcams..\n",
    "\n",
    "#For saving the video file as output.avi\n",
    "out = cv2.VideoWriter(\"fullG.avi\", cv2.VideoWriter_fourcc(*\"MJPG\"), 20, size)\n",
    "while cap.isOpened():    \n",
    "    ret, frame = cap.read()\n",
    "    if not ret:\n",
    "      break\n",
    "    # Recolor Feed from RGB to BGR\n",
    "    image = cv2.cvtColor(frame, cv2.COLOR_BGR2RGB)\n",
    "    #making image writeable to false improves prediction\n",
    "    image.flags.writeable = False    \n",
    "\n",
    "    result = yolo_model(image)    \n",
    "    \n",
    "    # Recolor image back to BGR for rendering\n",
    "    image.flags.writeable = True   \n",
    "    image = cv2.cvtColor(image, cv2.COLOR_RGB2BGR)\n",
    "    # print(result.xyxy)  # img1 predictions (tensor)\n",
    "\n",
    "    #This array will contain crops of images incase we need it \n",
    "    img_list =[]\n",
    "    \n",
    "    #we need some extra margin bounding box for human crops to be properly detected\n",
    "    MARGIN=10\n",
    "\n",
    "    for (xmin, ymin, xmax,   ymax,  confidence,  clas) in result.xyxy[0].tolist():\n",
    "      with mp_pose.Pose(min_detection_confidence=0.3, min_tracking_confidence=0.3) as pose:\n",
    "        #Media pose prediction ,we are \n",
    "        results = pose.process(image[int(ymin)+MARGIN:int(ymax)+MARGIN,int(xmin)+MARGIN:int(xmax)+MARGIN:])\n",
    "\n",
    "        #Draw landmarks on image, if this thing is confusing please consider going through numpy array slicing \n",
    "        mp_drawing.draw_landmarks(image[int(ymin)+MARGIN:int(ymax)+MARGIN,int(xmin)+MARGIN:int(xmax)+MARGIN:], results.pose_landmarks, mp_pose.POSE_CONNECTIONS,\n",
    "                            mp_drawing.DrawingSpec(color=(245,117,66), thickness=2, circle_radius=2), \n",
    "                            mp_drawing.DrawingSpec(color=(245,66,230), thickness=2, circle_radius=2) \n",
    "                              ) \n",
    "        img_list.append(image[int(ymin):int(ymax),int(xmin):int(xmax):])\n",
    "    # cv2_imshow(image)\n",
    "\n",
    "    # writing in the video file \n",
    "    out.write(image)\n",
    "\n",
    "    ## Code to quit the video incase you are using the webcam             \n",
    "    # cv2.imshow('Activity recognition', image)\n",
    "    # if cv2.waitKey(10) & 0xFF == ord('q'):\n",
    "    #     break\n",
    "\n",
    "cap.release()\n",
    "out.release()\n",
    "cv2.destroyAllWindows()"
   ]
  },
  {
   "cell_type": "code",
   "execution_count": null,
   "id": "de3d0085",
   "metadata": {},
   "outputs": [],
   "source": []
  }
 ],
 "metadata": {
  "kernelspec": {
   "display_name": "Python 3 (ipykernel)",
   "language": "python",
   "name": "python3"
  },
  "language_info": {
   "codemirror_mode": {
    "name": "ipython",
    "version": 3
   },
   "file_extension": ".py",
   "mimetype": "text/x-python",
   "name": "python",
   "nbconvert_exporter": "python",
   "pygments_lexer": "ipython3",
   "version": "3.9.12"
  }
 },
 "nbformat": 4,
 "nbformat_minor": 5
}
