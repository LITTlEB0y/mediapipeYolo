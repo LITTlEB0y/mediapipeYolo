{
 "cells": [
  {
   "cell_type": "code",
   "execution_count": 1,
   "id": "75f0b6ae",
   "metadata": {
    "scrolled": true
   },
   "outputs": [
    {
     "name": "stdout",
     "output_type": "stream",
     "text": [
      "Requirement already satisfied: opencv-python in c:\\users\\user\\anaconda3\\lib\\site-packages (4.5.5.64)\n",
      "Requirement already satisfied: mediapipe in c:\\users\\user\\anaconda3\\lib\\site-packages (0.8.10)\n",
      "Requirement already satisfied: torch in c:\\users\\user\\anaconda3\\lib\\site-packages (1.11.0)\n",
      "Requirement already satisfied: numpy>=1.17.3 in c:\\users\\user\\anaconda3\\lib\\site-packages (from opencv-python) (1.21.5)\n",
      "Requirement already satisfied: attrs>=19.1.0 in c:\\users\\user\\anaconda3\\lib\\site-packages (from mediapipe) (21.4.0)\n",
      "Requirement already satisfied: protobuf>=3.11.4 in c:\\users\\user\\anaconda3\\lib\\site-packages (from mediapipe) (3.19.1)\n",
      "Requirement already satisfied: absl-py in c:\\users\\user\\anaconda3\\lib\\site-packages (from mediapipe) (0.15.0)\n",
      "Requirement already satisfied: opencv-contrib-python in c:\\users\\user\\anaconda3\\lib\\site-packages (from mediapipe) (4.6.0.66)\n",
      "Requirement already satisfied: matplotlib in c:\\users\\user\\anaconda3\\lib\\site-packages (from mediapipe) (3.5.1)\n",
      "Requirement already satisfied: typing-extensions in c:\\users\\user\\anaconda3\\lib\\site-packages (from torch) (4.1.1)\n",
      "Requirement already satisfied: six in c:\\users\\user\\anaconda3\\lib\\site-packages (from absl-py->mediapipe) (1.16.0)\n",
      "Requirement already satisfied: fonttools>=4.22.0 in c:\\users\\user\\anaconda3\\lib\\site-packages (from matplotlib->mediapipe) (4.25.0)\n",
      "Requirement already satisfied: pillow>=6.2.0 in c:\\users\\user\\anaconda3\\lib\\site-packages (from matplotlib->mediapipe) (9.0.1)\n",
      "Requirement already satisfied: pyparsing>=2.2.1 in c:\\users\\user\\anaconda3\\lib\\site-packages (from matplotlib->mediapipe) (3.0.4)\n",
      "Requirement already satisfied: packaging>=20.0 in c:\\users\\user\\anaconda3\\lib\\site-packages (from matplotlib->mediapipe) (21.3)\n",
      "Requirement already satisfied: cycler>=0.10 in c:\\users\\user\\anaconda3\\lib\\site-packages (from matplotlib->mediapipe) (0.11.0)\n",
      "Requirement already satisfied: kiwisolver>=1.0.1 in c:\\users\\user\\anaconda3\\lib\\site-packages (from matplotlib->mediapipe) (1.3.2)\n",
      "Requirement already satisfied: python-dateutil>=2.7 in c:\\users\\user\\anaconda3\\lib\\site-packages (from matplotlib->mediapipe) (2.8.2)\n"
     ]
    }
   ],
   "source": [
    "!pip install -qr https://raw.githubusercontent.com/ultralytics/yolov5/master/requirements.txt\n",
    "!pip install opencv-python mediapipe torch\n"
   ]
  },
  {
   "cell_type": "code",
   "execution_count": 2,
   "id": "ee7e4543",
   "metadata": {},
   "outputs": [
    {
     "name": "stderr",
     "output_type": "stream",
     "text": [
      "Using cache found in C:\\Users\\user/.cache\\torch\\hub\\ultralytics_yolov5_master\n",
      "YOLOv5  2022-7-11 Python-3.9.12 torch-1.11.0+cpu CPU\n",
      "\n",
      "Fusing layers... \n",
      "YOLOv5s summary: 213 layers, 7225885 parameters, 0 gradients\n",
      "Adding AutoShape... \n"
     ]
    }
   ],
   "source": [
    "import os\n",
    "import matplotlib.pyplot as plt\n",
    "\n",
    "from PIL import Image\n",
    "import cv2\n",
    "\n",
    "import mediapipe as mp\n",
    "from mediapipe.python.solutions import pose as mp_pose\n",
    "import torch\n",
    "\n",
    "yolo_model = torch.hub.load('ultralytics/yolov5', 'yolov5s')\n",
    "yolo_model.classes=[0]"
   ]
  },
  {
   "cell_type": "code",
   "execution_count": 3,
   "id": "a9b73048",
   "metadata": {},
   "outputs": [],
   "source": [
    "mp_drawing = mp.solutions.drawing_utils\n",
    "mp_pose =mp.solutions.pose"
   ]
  },
  {
   "cell_type": "code",
   "execution_count": 4,
   "id": "680a61cd",
   "metadata": {},
   "outputs": [],
   "source": [
    "video_path =\"videoplayback (4)_edit.mp4\""
   ]
  },
  {
   "cell_type": "code",
   "execution_count": 5,
   "id": "1abd4467",
   "metadata": {},
   "outputs": [
    {
     "name": "stdout",
     "output_type": "stream",
     "text": [
      "(640, 480)\n"
     ]
    },
    {
     "ename": "KeyboardInterrupt",
     "evalue": "",
     "output_type": "error",
     "traceback": [
      "\u001b[1;31m---------------------------------------------------------------------------\u001b[0m",
      "\u001b[1;31mKeyboardInterrupt\u001b[0m                         Traceback (most recent call last)",
      "Input \u001b[1;32mIn [5]\u001b[0m, in \u001b[0;36m<cell line: 21>\u001b[1;34m()\u001b[0m\n\u001b[0;32m     61\u001b[0m     cv2\u001b[38;5;241m.\u001b[39mimshow(\u001b[38;5;124m'\u001b[39m\u001b[38;5;124mActivity recognition\u001b[39m\u001b[38;5;124m'\u001b[39m, image)\n\u001b[0;32m     62\u001b[0m \u001b[38;5;66;03m#     delay_time = 10\u001b[39;00m\n\u001b[0;32m     63\u001b[0m \u001b[38;5;66;03m#     cv2.waitKey(delay_time)\u001b[39;00m\n\u001b[1;32m---> 64\u001b[0m     \u001b[38;5;28;01mif\u001b[39;00m \u001b[43mcv2\u001b[49m\u001b[38;5;241;43m.\u001b[39;49m\u001b[43mwaitKey\u001b[49m\u001b[43m(\u001b[49m\u001b[38;5;241;43m10\u001b[39;49m\u001b[43m)\u001b[49m \u001b[38;5;241m&\u001b[39m \u001b[38;5;241m0xFF\u001b[39m \u001b[38;5;241m==\u001b[39m \u001b[38;5;28mord\u001b[39m(\u001b[38;5;124m'\u001b[39m\u001b[38;5;124mq\u001b[39m\u001b[38;5;124m'\u001b[39m):\n\u001b[0;32m     65\u001b[0m         \u001b[38;5;28;01mbreak\u001b[39;00m\n\u001b[0;32m     67\u001b[0m cap\u001b[38;5;241m.\u001b[39mrelease()\n",
      "\u001b[1;31mKeyboardInterrupt\u001b[0m: "
     ]
    }
   ],
   "source": [
    "cap = cv2.VideoCapture(0)\n",
    "\n",
    "while cap.isOpened():\n",
    "#     cap.set(cv2.CAP_PROP_FPS,10)\n",
    "    ret, frame = cap.read()\n",
    "#     print(cap.get(cv2.CAP_PROP_FPS))\n",
    "    \n",
    "\n",
    "        \n",
    "    h, w, _ = frame.shape\n",
    "    size = (w, h)\n",
    "    print(size)\n",
    "    break\n",
    "\n",
    "cap = cv2.VideoCapture(0)\n",
    "\n",
    "#for webacam cv2.VideoCapture(NUM) NUM -> 0,1,2 for primary and secondary webcams..\n",
    "\n",
    "#For saving the video file as output.avi\n",
    "# out = cv2.VideoWriter(\"PM2.avi\", cv2.VideoWriter_fourcc(*\"MJPG\"), 20, size)\n",
    "while cap.isOpened(): \n",
    "#     print(cap.get(cv2.CAP_PROP_FPS))\n",
    "    ret, frame = cap.read()\n",
    "    if not ret:\n",
    "      break\n",
    "    # Recolor Feed from RGB to BGR\n",
    "    image = cv2.cvtColor(frame, cv2.COLOR_BGR2RGB)\n",
    "    #making image writeable to false improves prediction\n",
    "    image.flags.writeable = False    \n",
    "\n",
    "    result = yolo_model(image)    \n",
    "    \n",
    "    # Recolor image back to BGR for rendering\n",
    "    image.flags.writeable = True   \n",
    "    image = cv2.cvtColor(image, cv2.COLOR_RGB2BGR)\n",
    "    # print(result.xyxy)  # img1 predictions (tensor)\n",
    "\n",
    "    #This array will contain crops of images incase we need it \n",
    "    img_list =[]\n",
    "    \n",
    "    #we need some extra margin bounding box for human crops to be properly detected\n",
    "    MARGIN=10\n",
    "\n",
    "    for (xmin, ymin, xmax,   ymax,  confidence,  clas) in result.xyxy[0].tolist():\n",
    "      with mp_pose.Pose(min_detection_confidence=0.3, min_tracking_confidence=0.3) as pose:\n",
    "        #Media pose prediction ,we are \n",
    "        results = pose.process(image[int(ymin)+MARGIN:int(ymax)+MARGIN,int(xmin)+MARGIN:int(xmax)+MARGIN:])\n",
    "\n",
    "        #Draw landmarks on image, if this thing is confusing please consider going through numpy array slicing \n",
    "        mp_drawing.draw_landmarks(image[int(ymin)+MARGIN:int(ymax)+MARGIN,int(xmin)+MARGIN:int(xmax)+MARGIN:], results.pose_landmarks, mp_pose.POSE_CONNECTIONS,\n",
    "                            mp_drawing.DrawingSpec(color=(245,117,66), thickness=2, circle_radius=2), \n",
    "                            mp_drawing.DrawingSpec(color=(245,66,230), thickness=2, circle_radius=2) \n",
    "                              ) \n",
    "        img_list.append(image[int(ymin):int(ymax),int(xmin):int(xmax):])\n",
    "    # cv2_imshow(image)\n",
    "\n",
    "    # writing in the video file \n",
    "#     out.write(image)\n",
    "\n",
    "    ## Code to quit the video incase you are using the webcam             \n",
    "    cv2.imshow('Activity recognition', image)\n",
    "#     delay_time = 10\n",
    "#     cv2.waitKey(delay_time)\n",
    "    if cv2.waitKey(10) & 0xFF == ord('q'):\n",
    "        break\n",
    "\n",
    "cap.release()\n",
    "# out.release()\n",
    "cv2.destroyAllWindows()"
   ]
  },
  {
   "cell_type": "code",
   "execution_count": null,
   "id": "fabb39fd",
   "metadata": {},
   "outputs": [],
   "source": [
    "torch.cuda.is_available()"
   ]
  },
  {
   "cell_type": "code",
   "execution_count": null,
   "id": "9eec2715",
   "metadata": {},
   "outputs": [],
   "source": []
  }
 ],
 "metadata": {
  "kernelspec": {
   "display_name": "Python 3 (ipykernel)",
   "language": "python",
   "name": "python3"
  },
  "language_info": {
   "codemirror_mode": {
    "name": "ipython",
    "version": 3
   },
   "file_extension": ".py",
   "mimetype": "text/x-python",
   "name": "python",
   "nbconvert_exporter": "python",
   "pygments_lexer": "ipython3",
   "version": "3.9.12"
  }
 },
 "nbformat": 4,
 "nbformat_minor": 5
}
